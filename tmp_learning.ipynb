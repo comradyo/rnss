{
 "cells": [
  {
   "cell_type": "code",
   "execution_count": 1,
   "metadata": {},
   "outputs": [],
   "source": [
    "import numpy as np\n",
    "import torch\n",
    "import torch.optim as optim\n",
    "import torch.nn as nn\n",
    "import torch.nn.functional as F\n",
    "from torch.utils.data import TensorDataset, DataLoader\n",
    "import pickle\n",
    "from sklearn.metrics import classification_report\n",
    "from sklearn.datasets import make_circles, make_moons\n",
    "from PIL import Image\n",
    "import matplotlib.pyplot as plt\n",
    "%matplotlib inline"
   ]
  },
  {
   "cell_type": "code",
   "execution_count": null,
   "metadata": {},
   "outputs": [],
   "source": [
    "# arange - генерирует массив, заданный последовательностью\n",
    "# В данном случае, сгенерирует 100 значений от 0 до 99 включительно\n",
    "# repeat - повторит действие генерации 5 раз, т.е. будет массив длиной 500 элементов\n",
    "# причем, элементы повторяются друг за другом\n",
    "# (первые пять элементов - одинаковые, вторые пять - одинаковые и т.п.)\n",
    "X = (np.arange(100)/100 - 0.5).repeat(5)\n",
    "print(X)"
   ]
  },
  {
   "cell_type": "code",
   "execution_count": null,
   "metadata": {},
   "outputs": [],
   "source": [
    "# TESTS\n",
    "# reshape - функция для изменения формы массивов\n",
    "# reshape(array, shape)\n",
    "# shape задается в виде числа или набора чисел (кортежа)\n",
    "# The new shape should be compatible with the original shape.\n",
    "# If an integer, then the result will be a 1-D array of that length.\n",
    "# One shape dimension can be -1.\n",
    "# In this case, the value is inferred from the length of the array and remaining dimensions.\n",
    "# -1 нужно для случая, когда мы не знаем, сколько столбцов/строк будет.\n",
    "a = np.arange(6)\n",
    "print(a)\n",
    "a = np.arange(6).reshape(-1)\n",
    "print(a)\n",
    "a = np.arange(6).reshape((3, 2))\n",
    "print(a)\n",
    "a = np.arange(6).reshape((2, 3))\n",
    "print(a)\n",
    "a = np.arange(6).reshape((-1, 1))\n",
    "print(a)\n",
    "a = np.arange(6).reshape((1, -1))\n",
    "print(a)"
   ]
  },
  {
   "cell_type": "code",
   "execution_count": null,
   "metadata": {},
   "outputs": [],
   "source": [
    "X = (np.arange(10)/100 - 0.5)\n",
    "print(X)\n",
    "print(X.reshape(-1, 1))"
   ]
  },
  {
   "cell_type": "code",
   "execution_count": null,
   "metadata": {},
   "outputs": [],
   "source": [
    "# TESTS\n",
    "# A torch.Tensor is a multi-dimensional matrix containing elements of a single data type.\n",
    "torch.Tensor(X.reshape(-1, 1))"
   ]
  },
  {
   "cell_type": "code",
   "execution_count": null,
   "metadata": {},
   "outputs": [],
   "source": [
    "# TESTS\n",
    "# torch.rand(a, b) создает случайный тензор размера (a строк, b столбцов) со значениями от 0 до 1.\n",
    "# Можно вызвать torch.rand(a), тогда это будет тензор размера 1 на a\n",
    "torch.rand(2, 3)"
   ]
  },
  {
   "cell_type": "code",
   "execution_count": null,
   "metadata": {},
   "outputs": [],
   "source": [
    "# TESTS\n",
    "# torch.zeros создает тензор, заполненный нулями\n",
    "torch.zeros(5)"
   ]
  },
  {
   "cell_type": "code",
   "execution_count": null,
   "metadata": {},
   "outputs": [],
   "source": [
    "# 1000 точек с координатами, являющимися случайными целыми числами 0 или 1\n",
    "X = np.random.randint(2, size=(1000, 2))"
   ]
  },
  {
   "cell_type": "code",
   "execution_count": null,
   "metadata": {},
   "outputs": [],
   "source": [
    "# суммирование координат, размер будет 1 на 1000 (массив из 1000 элементов)\n",
    "X[:, 0] + X[:, 1]"
   ]
  },
  {
   "cell_type": "code",
   "execution_count": null,
   "metadata": {},
   "outputs": [],
   "source": [
    "X = np.random.randint(2, size=(1000, 2))\n",
    "\n",
    "# y используем для идентификации цвета.\n",
    "# Таким образом, точки (0,0) и (1,1) будут одного цвета (фиолетового)\n",
    "# точки (0,1) и (1,0) будут другого цвета (желтого)\n",
    "y = (X[:, 0] + X[:, 1]) % 2 # XOR\n",
    "# добавляем разброс\n",
    "X = X + np.random.normal(0, scale=0.1, size=X.shape)\n",
    "#X, y = make_circles(n_samples=1000, noise=0.025)\n",
    "#X, y = make_moons(n_samples=1000, noise=0.025)\n",
    "# scatter - отрисовка точек.\n",
    "# c - цвет\n",
    "plt.scatter(X[:, 0], X[:, 1], c=y)"
   ]
  }
 ],
 "metadata": {
  "kernelspec": {
   "display_name": "Python 3",
   "language": "python",
   "name": "python3"
  },
  "language_info": {
   "codemirror_mode": {
    "name": "ipython",
    "version": 3
   },
   "file_extension": ".py",
   "mimetype": "text/x-python",
   "name": "python",
   "nbconvert_exporter": "python",
   "pygments_lexer": "ipython3",
   "version": "3.9.6"
  }
 },
 "nbformat": 4,
 "nbformat_minor": 2
}
